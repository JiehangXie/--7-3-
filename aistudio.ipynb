{
 "cells": [
  {
   "cell_type": "markdown",
   "metadata": {
    "collapsed": false
   },
   "source": [
    "## 安装PaddleSeg以及更新依赖"
   ]
  },
  {
   "cell_type": "code",
   "execution_count": null,
   "metadata": {
    "collapsed": false
   },
   "outputs": [],
   "source": [
    "#!git clone https://gitee.com/paddlepaddle/PaddleSeg.git"
   ]
  },
  {
   "cell_type": "code",
   "execution_count": null,
   "metadata": {
    "collapsed": false
   },
   "outputs": [],
   "source": [
    "!pip install paddlepaddle-gpu==2.1.1.post101 -f https://paddlepaddle.org.cn/whl/mkl/stable.html"
   ]
  },
  {
   "cell_type": "code",
   "execution_count": null,
   "metadata": {
    "collapsed": false
   },
   "outputs": [],
   "source": [
    "!pip install -r PaddleSeg/requirements.txt"
   ]
  },
  {
   "cell_type": "markdown",
   "metadata": {
    "collapsed": false
   },
   "source": [
    "## 解压数据集"
   ]
  },
  {
   "cell_type": "code",
   "execution_count": 2,
   "metadata": {
    "collapsed": false
   },
   "outputs": [],
   "source": [
    "!unzip data/data77571/train_and_label.zip -d data/"
   ]
  },
  {
   "cell_type": "code",
   "execution_count": 3,
   "metadata": {
    "collapsed": false
   },
   "outputs": [],
   "source": [
    "!unzip data/data77571/img_test.zip -d data/"
   ]
  },
  {
   "cell_type": "markdown",
   "metadata": {
    "collapsed": false
   },
   "source": [
    "## 生成训练列表文件"
   ]
  },
  {
   "cell_type": "code",
   "execution_count": null,
   "metadata": {
    "collapsed": false
   },
   "outputs": [],
   "source": [
    "import os\n",
    "img_train_dir = os.listdir('./data/img_train')\n",
    "train_val_ratio = 0.9 #划分训练集和验证集的比例\n",
    "train_img_num = int(len(img_train_dir)*train_val_ratio)\n",
    "val_img_num = len(img_train_dir) - train_img_num\n",
    "train_list_origin = img_train_dir[:train_img_num]\n",
    "val_list_origin = img_train_dir[train_img_num:]\n",
    "print(len(train_list_origin),len(val_list_origin)) #输出训练集和验证集数量\n",
    "\n",
    "#生成trainlist\n",
    "with open('train_list.txt','w') as f:\n",
    "    for i in range(len(train_list_origin)):\n",
    "        train_img_name = 'img_train/' + train_list_origin[i]\n",
    "        train_lab_name = 'lab_train/' + train_list_origin[i].split('.')[0] + '.png'\n",
    "        f.write(train_img_name + ' ' + train_lab_name + '\\n')\n",
    "#生成vallist\n",
    "with open('val_list.txt','w') as f:\n",
    "    for i in range(len(val_list_origin)):\n",
    "        val_img_name = 'img_train/' + val_list_origin[i]\n",
    "        val_lab_name = 'lab_train/' + val_list_origin[i].split('.')[0] + '.png'\n",
    "        f.write(val_img_name + ' ' + val_lab_name + '\\n')"
   ]
  },
  {
   "cell_type": "markdown",
   "metadata": {
    "collapsed": false
   },
   "source": [
    "## 配置训练参数\n",
    "#### 在根目录下目录下创建一个命名为swin.yml的配置文件，将以下参数复制到文件即可"
   ]
  },
  {
   "cell_type": "markdown",
   "metadata": {
    "collapsed": false
   },
   "source": [
    "```\n",
    "batch_size: 8\n",
    "iters: 200000\n",
    "\n",
    "model:\n",
    "  type: MLATransformer\n",
    "  backbone:\n",
    "    type: SwinTransformer_base_patch4_window7_224\n",
    "    ape: False\n",
    "    drop_path_rate: 0.3\n",
    "    patch_norm: True\n",
    "    pretrained: https://bj.bcebos.com/paddleseg/dygraph/swin_transformer_base_patch4_window7_224_imagenet_1k.tar.gz\n",
    "  num_classes: 4\n",
    "  in_channels: [128, 256, 512, 1024]\n",
    "  mlahead_channels: 128\n",
    "\n",
    "train_dataset:\n",
    "  type: Dataset\n",
    "  dataset_root: ./data\n",
    "  train_path: train_list.txt\n",
    "  num_classes: 4\n",
    "  edge: True\n",
    "  transforms:\n",
    "    - type: RandomHorizontalFlip\n",
    "    - type: RandomVerticalFlip\n",
    "    - type: RandomRotation\n",
    "      max_rotation: 180\n",
    "      im_padding_value: [127.5, 127.5, 127.5]\n",
    "      label_padding_value: 255\n",
    "    - type: RandomBlur\n",
    "    - type: RandomDistort\n",
    "      brightness_range: 0.4\n",
    "      contrast_range: 0.4\n",
    "      saturation_range: 0.4\n",
    "    - type: Resize\n",
    "      target_size: [224, 224]\n",
    "    - type: Normalize\n",
    "  mode: train\n",
    "\n",
    "val_dataset:\n",
    "  type: Dataset\n",
    "  dataset_root: ./data\n",
    "  val_path: val_list.txt\n",
    "  num_classes: 4\n",
    "  transforms:\n",
    "    - type: Resize\n",
    "      target_size: [224, 224]\n",
    "    - type: Normalize\n",
    "  mode: val\n",
    "\n",
    "optimizer:\n",
    "  type: sgd\n",
    "  momentum: 0.9\n",
    "  weight_decay: 4.0e-5\n",
    "\n",
    "learning_rate:\n",
    "  value: 0.003\n",
    "  decay:\n",
    "    type: poly\n",
    "    power: 0.9\n",
    "    end_lr: 0.00001\n",
    "\n",
    "loss:\n",
    "  types:\n",
    "    - type: CrossEntropyLoss\n",
    "    - type: CrossEntropyLoss\n",
    "  coef: [1, 0.4]\n",
    "\n",
    "```"
   ]
  },
  {
   "cell_type": "markdown",
   "metadata": {
    "collapsed": false
   },
   "source": [
    "## 调优思路解析"
   ]
  },
  {
   "cell_type": "markdown",
   "metadata": {
    "collapsed": false
   },
   "source": [
    "> 1.尝试使用了SwinTransformer网络模型（本次就是想试试transformer的水）  \n",
    "2.在数据增强方面，使用了水平旋转、垂直旋转和常规的明亮度、对比度和饱和度调节"
   ]
  },
  {
   "cell_type": "markdown",
   "metadata": {
    "collapsed": false
   },
   "source": [
    "## 开始训练"
   ]
  },
  {
   "cell_type": "code",
   "execution_count": null,
   "metadata": {
    "collapsed": false
   },
   "outputs": [],
   "source": [
    "!python PaddleSeg/train.py \\\n",
    "       --config swin.yml \\\n",
    "       --do_eval \\\n",
    "       --use_vdl \\\n",
    "       --save_interval 1000 \\\n",
    "       --save_dir output"
   ]
  },
  {
   "cell_type": "code",
   "execution_count": null,
   "metadata": {
    "collapsed": false
   },
   "outputs": [],
   "source": [
    "!python PaddleSeg/train.py \\\n",
    "       --config swin.yml \\\n",
    "       --do_eval \\\n",
    "       --use_vdl \\\n",
    "       --save_interval 750 \\\n",
    "       --save_dir output"
   ]
  },
  {
   "cell_type": "markdown",
   "metadata": {
    "collapsed": false
   },
   "source": [
    "## 预测图片"
   ]
  },
  {
   "cell_type": "markdown",
   "metadata": {
    "collapsed": false
   },
   "source": [
    "> 注意：因为Predict.py文件默认是输出渲染后的彩色图片，但比赛需要提交原图，因此我们需要修改一下PaddleSeg/paddleseg/utils/visualize.py文件"
   ]
  },
  {
   "cell_type": "markdown",
   "metadata": {
    "collapsed": false
   },
   "source": [
    "> 修改方法是把第60和61行注释掉，让pseudo_color_prediction文件夹直接输出原图，然后下载再上传系统评估即可  \n",
    "    #color_map = get_color_map_list(256)  \n",
    "    #pred_mask.putpalette(color_map)"
   ]
  },
  {
   "cell_type": "code",
   "execution_count": 4,
   "metadata": {
    "collapsed": false
   },
   "outputs": [],
   "source": [
    "!python PaddleSeg/predict.py \\\n",
    "       --config swin.yml \\\n",
    "       --model_path output/best_model/model.pdparams \\\n",
    "       --image_path data/img_testA \\\n",
    "       --save_dir ./result"
   ]
  }
 ],
 "metadata": {
  "kernelspec": {
   "display_name": "PaddlePaddle 2.0.0b0 (Python 3.5)",
   "language": "python",
   "name": "py35-paddle1.2.0"
  },
  "language_info": {
   "codemirror_mode": {
    "name": "ipython",
    "version": 3
   },
   "file_extension": ".py",
   "mimetype": "text/x-python",
   "name": "python",
   "nbconvert_exporter": "python",
   "pygments_lexer": "ipython3",
   "version": "3.7.4"
  }
 },
 "nbformat": 4,
 "nbformat_minor": 1
}
